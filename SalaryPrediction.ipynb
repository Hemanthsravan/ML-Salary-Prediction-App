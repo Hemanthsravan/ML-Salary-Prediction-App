{
 "cells": [
  {
   "cell_type": "code",
   "execution_count": 1,
   "id": "152e9980",
   "metadata": {},
   "outputs": [
    {
     "name": "stdout",
     "output_type": "stream",
     "text": [
      "Collecting streamlit\n",
      "  Using cached streamlit-1.30.0-py2.py3-none-any.whl (8.4 MB)\n",
      "Requirement already satisfied: numpy<2,>=1.19.3 in c:\\users\\dell\\anaconda3\\lib\\site-packages (from streamlit) (1.23.5)\n",
      "Collecting protobuf<5,>=3.20\n",
      "  Using cached protobuf-4.25.2-cp310-abi3-win_amd64.whl (413 kB)\n",
      "Requirement already satisfied: packaging<24,>=16.8 in c:\\users\\dell\\anaconda3\\lib\\site-packages (from streamlit) (22.0)\n",
      "Collecting rich<14,>=10.14.0\n",
      "  Using cached rich-13.7.0-py3-none-any.whl (240 kB)\n",
      "Requirement already satisfied: requests<3,>=2.27 in c:\\users\\dell\\anaconda3\\lib\\site-packages (from streamlit) (2.28.1)\n",
      "Collecting tenacity<9,>=8.1.0\n",
      "  Using cached tenacity-8.2.3-py3-none-any.whl (24 kB)\n",
      "Collecting gitpython!=3.1.19,<4,>=3.0.7\n",
      "  Using cached GitPython-3.1.41-py3-none-any.whl (196 kB)\n",
      "Requirement already satisfied: pandas<3,>=1.3.0 in c:\\users\\dell\\anaconda3\\lib\\site-packages (from streamlit) (2.1.1)\n",
      "Requirement already satisfied: pyarrow>=6.0 in c:\\users\\dell\\anaconda3\\lib\\site-packages (from streamlit) (13.0.0)\n",
      "Requirement already satisfied: pillow<11,>=7.1.0 in c:\\users\\dell\\anaconda3\\lib\\site-packages (from streamlit) (9.4.0)\n",
      "Requirement already satisfied: click<9,>=7.0 in c:\\users\\dell\\anaconda3\\lib\\site-packages (from streamlit) (8.0.4)\n",
      "Collecting cachetools<6,>=4.0\n",
      "  Using cached cachetools-5.3.2-py3-none-any.whl (9.3 kB)\n",
      "Requirement already satisfied: typing-extensions<5,>=4.3.0 in c:\\users\\dell\\anaconda3\\lib\\site-packages (from streamlit) (4.8.0)\n",
      "Requirement already satisfied: importlib-metadata<8,>=1.4 in c:\\users\\dell\\anaconda3\\lib\\site-packages (from streamlit) (4.11.3)\n",
      "Requirement already satisfied: watchdog>=2.1.5 in c:\\users\\dell\\anaconda3\\lib\\site-packages (from streamlit) (2.1.6)\n",
      "Collecting validators<1,>=0.2\n",
      "  Using cached validators-0.22.0-py3-none-any.whl (26 kB)\n",
      "Collecting pydeck<1,>=0.8.0b4\n",
      "  Using cached pydeck-0.8.1b0-py2.py3-none-any.whl (4.8 MB)\n",
      "Requirement already satisfied: python-dateutil<3,>=2.7.3 in c:\\users\\dell\\anaconda3\\lib\\site-packages (from streamlit) (2.8.2)\n",
      "Collecting tzlocal<6,>=1.1\n",
      "  Using cached tzlocal-5.2-py3-none-any.whl (17 kB)\n",
      "Collecting altair<6,>=4.0\n",
      "  Using cached altair-5.2.0-py3-none-any.whl (996 kB)\n",
      "Requirement already satisfied: toml<2,>=0.10.1 in c:\\users\\dell\\anaconda3\\lib\\site-packages (from streamlit) (0.10.2)\n",
      "Collecting blinker<2,>=1.0.0\n",
      "  Using cached blinker-1.7.0-py3-none-any.whl (13 kB)\n",
      "Requirement already satisfied: tornado<7,>=6.0.3 in c:\\users\\dell\\anaconda3\\lib\\site-packages (from streamlit) (6.1)\n",
      "Requirement already satisfied: jsonschema>=3.0 in c:\\users\\dell\\anaconda3\\lib\\site-packages (from altair<6,>=4.0->streamlit) (4.17.3)\n",
      "Requirement already satisfied: jinja2 in c:\\users\\dell\\anaconda3\\lib\\site-packages (from altair<6,>=4.0->streamlit) (3.1.2)\n",
      "Requirement already satisfied: toolz in c:\\users\\dell\\anaconda3\\lib\\site-packages (from altair<6,>=4.0->streamlit) (0.12.0)\n",
      "Requirement already satisfied: colorama in c:\\users\\dell\\anaconda3\\lib\\site-packages (from click<9,>=7.0->streamlit) (0.4.6)\n",
      "Collecting gitdb<5,>=4.0.1\n",
      "  Using cached gitdb-4.0.11-py3-none-any.whl (62 kB)\n",
      "Requirement already satisfied: zipp>=0.5 in c:\\users\\dell\\anaconda3\\lib\\site-packages (from importlib-metadata<8,>=1.4->streamlit) (3.11.0)\n",
      "Requirement already satisfied: tzdata>=2022.1 in c:\\users\\dell\\anaconda3\\lib\\site-packages (from pandas<3,>=1.3.0->streamlit) (2023.3)\n",
      "Requirement already satisfied: pytz>=2020.1 in c:\\users\\dell\\anaconda3\\lib\\site-packages (from pandas<3,>=1.3.0->streamlit) (2022.7)\n",
      "Requirement already satisfied: six>=1.5 in c:\\users\\dell\\anaconda3\\lib\\site-packages (from python-dateutil<3,>=2.7.3->streamlit) (1.16.0)\n",
      "Requirement already satisfied: urllib3<1.27,>=1.21.1 in c:\\users\\dell\\anaconda3\\lib\\site-packages (from requests<3,>=2.27->streamlit) (1.26.14)\n",
      "Requirement already satisfied: charset-normalizer<3,>=2 in c:\\users\\dell\\anaconda3\\lib\\site-packages (from requests<3,>=2.27->streamlit) (2.0.4)\n",
      "Requirement already satisfied: idna<4,>=2.5 in c:\\users\\dell\\anaconda3\\lib\\site-packages (from requests<3,>=2.27->streamlit) (3.4)\n",
      "Requirement already satisfied: certifi>=2017.4.17 in c:\\users\\dell\\anaconda3\\lib\\site-packages (from requests<3,>=2.27->streamlit) (2023.5.7)\n",
      "Collecting pygments<3.0.0,>=2.13.0\n",
      "  Using cached pygments-2.17.2-py3-none-any.whl (1.2 MB)\n",
      "Collecting markdown-it-py>=2.2.0\n",
      "  Using cached markdown_it_py-3.0.0-py3-none-any.whl (87 kB)\n",
      "Collecting smmap<6,>=3.0.1\n",
      "  Using cached smmap-5.0.1-py3-none-any.whl (24 kB)\n",
      "Requirement already satisfied: MarkupSafe>=2.0 in c:\\users\\dell\\anaconda3\\lib\\site-packages (from jinja2->altair<6,>=4.0->streamlit) (2.1.1)\n",
      "Requirement already satisfied: attrs>=17.4.0 in c:\\users\\dell\\anaconda3\\lib\\site-packages (from jsonschema>=3.0->altair<6,>=4.0->streamlit) (22.1.0)\n",
      "Requirement already satisfied: pyrsistent!=0.17.0,!=0.17.1,!=0.17.2,>=0.14.0 in c:\\users\\dell\\anaconda3\\lib\\site-packages (from jsonschema>=3.0->altair<6,>=4.0->streamlit) (0.18.0)\n",
      "Collecting mdurl~=0.1\n",
      "  Using cached mdurl-0.1.2-py3-none-any.whl (10.0 kB)\n",
      "Installing collected packages: validators, tzlocal, tenacity, smmap, pygments, protobuf, mdurl, cachetools, blinker, pydeck, markdown-it-py, gitdb, rich, gitpython, altair, streamlit\n",
      "  Attempting uninstall: tenacity\n",
      "    Found existing installation: tenacity 8.0.1\n",
      "    Uninstalling tenacity-8.0.1:\n",
      "      Successfully uninstalled tenacity-8.0.1\n",
      "  Attempting uninstall: pygments\n",
      "    Found existing installation: Pygments 2.11.2\n",
      "    Uninstalling Pygments-2.11.2:\n",
      "      Successfully uninstalled Pygments-2.11.2\n",
      "Successfully installed altair-5.2.0 blinker-1.7.0 cachetools-5.3.2 gitdb-4.0.11 gitpython-3.1.41 markdown-it-py-3.0.0 mdurl-0.1.2 protobuf-4.25.2 pydeck-0.8.1b0 pygments-2.17.2 rich-13.7.0 smmap-5.0.1 streamlit-1.30.0 tenacity-8.2.3 tzlocal-5.2 validators-0.22.0\n",
      "Note: you may need to restart the kernel to use updated packages.\n"
     ]
    }
   ],
   "source": [
    "pip install streamlit"
   ]
  },
  {
   "cell_type": "code",
   "execution_count": 1,
   "id": "c0611813",
   "metadata": {},
   "outputs": [],
   "source": [
    "import numpy as np\n",
    "import pandas as pd\n",
    "import matplotlib.pyplot as plt\n",
    "%matplotlib inline"
   ]
  },
  {
   "cell_type": "code",
   "execution_count": 2,
   "id": "300e11d2",
   "metadata": {},
   "outputs": [
    {
     "data": {
      "text/html": [
       "<div>\n",
       "<style scoped>\n",
       "    .dataframe tbody tr th:only-of-type {\n",
       "        vertical-align: middle;\n",
       "    }\n",
       "\n",
       "    .dataframe tbody tr th {\n",
       "        vertical-align: top;\n",
       "    }\n",
       "\n",
       "    .dataframe thead th {\n",
       "        text-align: right;\n",
       "    }\n",
       "</style>\n",
       "<table border=\"1\" class=\"dataframe\">\n",
       "  <thead>\n",
       "    <tr style=\"text-align: right;\">\n",
       "      <th></th>\n",
       "      <th>ResponseId</th>\n",
       "      <th>Q120</th>\n",
       "      <th>MainBranch</th>\n",
       "      <th>Age</th>\n",
       "      <th>Employment</th>\n",
       "      <th>RemoteWork</th>\n",
       "      <th>CodingActivities</th>\n",
       "      <th>EdLevel</th>\n",
       "      <th>LearnCode</th>\n",
       "      <th>LearnCodeOnline</th>\n",
       "      <th>...</th>\n",
       "      <th>Frequency_1</th>\n",
       "      <th>Frequency_2</th>\n",
       "      <th>Frequency_3</th>\n",
       "      <th>TimeSearching</th>\n",
       "      <th>TimeAnswering</th>\n",
       "      <th>ProfessionalTech</th>\n",
       "      <th>Industry</th>\n",
       "      <th>SurveyLength</th>\n",
       "      <th>SurveyEase</th>\n",
       "      <th>ConvertedCompYearly</th>\n",
       "    </tr>\n",
       "  </thead>\n",
       "  <tbody>\n",
       "    <tr>\n",
       "      <th>0</th>\n",
       "      <td>1</td>\n",
       "      <td>I agree</td>\n",
       "      <td>None of these</td>\n",
       "      <td>18-24 years old</td>\n",
       "      <td>NaN</td>\n",
       "      <td>NaN</td>\n",
       "      <td>NaN</td>\n",
       "      <td>NaN</td>\n",
       "      <td>NaN</td>\n",
       "      <td>NaN</td>\n",
       "      <td>...</td>\n",
       "      <td>NaN</td>\n",
       "      <td>NaN</td>\n",
       "      <td>NaN</td>\n",
       "      <td>NaN</td>\n",
       "      <td>NaN</td>\n",
       "      <td>NaN</td>\n",
       "      <td>NaN</td>\n",
       "      <td>NaN</td>\n",
       "      <td>NaN</td>\n",
       "      <td>NaN</td>\n",
       "    </tr>\n",
       "    <tr>\n",
       "      <th>1</th>\n",
       "      <td>2</td>\n",
       "      <td>I agree</td>\n",
       "      <td>I am a developer by profession</td>\n",
       "      <td>25-34 years old</td>\n",
       "      <td>Employed, full-time</td>\n",
       "      <td>Remote</td>\n",
       "      <td>Hobby;Contribute to open-source projects;Boots...</td>\n",
       "      <td>Bachelor’s degree (B.A., B.S., B.Eng., etc.)</td>\n",
       "      <td>Books / Physical media;Colleague;Friend or fam...</td>\n",
       "      <td>Formal documentation provided by the owner of ...</td>\n",
       "      <td>...</td>\n",
       "      <td>1-2 times a week</td>\n",
       "      <td>10+ times a week</td>\n",
       "      <td>Never</td>\n",
       "      <td>15-30 minutes a day</td>\n",
       "      <td>15-30 minutes a day</td>\n",
       "      <td>DevOps function;Microservices;Automated testin...</td>\n",
       "      <td>Information Services, IT, Software Development...</td>\n",
       "      <td>Appropriate in length</td>\n",
       "      <td>Easy</td>\n",
       "      <td>285000.0</td>\n",
       "    </tr>\n",
       "    <tr>\n",
       "      <th>2</th>\n",
       "      <td>3</td>\n",
       "      <td>I agree</td>\n",
       "      <td>I am a developer by profession</td>\n",
       "      <td>45-54 years old</td>\n",
       "      <td>Employed, full-time</td>\n",
       "      <td>Hybrid (some remote, some in-person)</td>\n",
       "      <td>Hobby;Professional development or self-paced l...</td>\n",
       "      <td>Bachelor’s degree (B.A., B.S., B.Eng., etc.)</td>\n",
       "      <td>Books / Physical media;Colleague;On the job tr...</td>\n",
       "      <td>Formal documentation provided by the owner of ...</td>\n",
       "      <td>...</td>\n",
       "      <td>6-10 times a week</td>\n",
       "      <td>6-10 times a week</td>\n",
       "      <td>3-5 times a week</td>\n",
       "      <td>30-60 minutes a day</td>\n",
       "      <td>30-60 minutes a day</td>\n",
       "      <td>DevOps function;Microservices;Automated testin...</td>\n",
       "      <td>Information Services, IT, Software Development...</td>\n",
       "      <td>Appropriate in length</td>\n",
       "      <td>Easy</td>\n",
       "      <td>250000.0</td>\n",
       "    </tr>\n",
       "    <tr>\n",
       "      <th>3</th>\n",
       "      <td>4</td>\n",
       "      <td>I agree</td>\n",
       "      <td>I am a developer by profession</td>\n",
       "      <td>25-34 years old</td>\n",
       "      <td>Employed, full-time</td>\n",
       "      <td>Hybrid (some remote, some in-person)</td>\n",
       "      <td>Hobby</td>\n",
       "      <td>Bachelor’s degree (B.A., B.S., B.Eng., etc.)</td>\n",
       "      <td>Colleague;Friend or family member;Other online...</td>\n",
       "      <td>Formal documentation provided by the owner of ...</td>\n",
       "      <td>...</td>\n",
       "      <td>1-2 times a week</td>\n",
       "      <td>10+ times a week</td>\n",
       "      <td>1-2 times a week</td>\n",
       "      <td>15-30 minutes a day</td>\n",
       "      <td>30-60 minutes a day</td>\n",
       "      <td>Automated testing;Continuous integration (CI) ...</td>\n",
       "      <td>NaN</td>\n",
       "      <td>Appropriate in length</td>\n",
       "      <td>Easy</td>\n",
       "      <td>156000.0</td>\n",
       "    </tr>\n",
       "    <tr>\n",
       "      <th>4</th>\n",
       "      <td>5</td>\n",
       "      <td>I agree</td>\n",
       "      <td>I am a developer by profession</td>\n",
       "      <td>25-34 years old</td>\n",
       "      <td>Employed, full-time;Independent contractor, fr...</td>\n",
       "      <td>Remote</td>\n",
       "      <td>Hobby;Contribute to open-source projects;Profe...</td>\n",
       "      <td>Bachelor’s degree (B.A., B.S., B.Eng., etc.)</td>\n",
       "      <td>Books / Physical media;Online Courses or Certi...</td>\n",
       "      <td>Formal documentation provided by the owner of ...</td>\n",
       "      <td>...</td>\n",
       "      <td>1-2 times a week</td>\n",
       "      <td>1-2 times a week</td>\n",
       "      <td>3-5 times a week</td>\n",
       "      <td>60-120 minutes a day</td>\n",
       "      <td>30-60 minutes a day</td>\n",
       "      <td>Microservices;Automated testing;Observability ...</td>\n",
       "      <td>Other</td>\n",
       "      <td>Appropriate in length</td>\n",
       "      <td>Neither easy nor difficult</td>\n",
       "      <td>23456.0</td>\n",
       "    </tr>\n",
       "  </tbody>\n",
       "</table>\n",
       "<p>5 rows × 84 columns</p>\n",
       "</div>"
      ],
      "text/plain": [
       "   ResponseId     Q120                      MainBranch              Age  \\\n",
       "0           1  I agree                   None of these  18-24 years old   \n",
       "1           2  I agree  I am a developer by profession  25-34 years old   \n",
       "2           3  I agree  I am a developer by profession  45-54 years old   \n",
       "3           4  I agree  I am a developer by profession  25-34 years old   \n",
       "4           5  I agree  I am a developer by profession  25-34 years old   \n",
       "\n",
       "                                          Employment  \\\n",
       "0                                                NaN   \n",
       "1                                Employed, full-time   \n",
       "2                                Employed, full-time   \n",
       "3                                Employed, full-time   \n",
       "4  Employed, full-time;Independent contractor, fr...   \n",
       "\n",
       "                             RemoteWork  \\\n",
       "0                                   NaN   \n",
       "1                                Remote   \n",
       "2  Hybrid (some remote, some in-person)   \n",
       "3  Hybrid (some remote, some in-person)   \n",
       "4                                Remote   \n",
       "\n",
       "                                    CodingActivities  \\\n",
       "0                                                NaN   \n",
       "1  Hobby;Contribute to open-source projects;Boots...   \n",
       "2  Hobby;Professional development or self-paced l...   \n",
       "3                                              Hobby   \n",
       "4  Hobby;Contribute to open-source projects;Profe...   \n",
       "\n",
       "                                        EdLevel  \\\n",
       "0                                           NaN   \n",
       "1  Bachelor’s degree (B.A., B.S., B.Eng., etc.)   \n",
       "2  Bachelor’s degree (B.A., B.S., B.Eng., etc.)   \n",
       "3  Bachelor’s degree (B.A., B.S., B.Eng., etc.)   \n",
       "4  Bachelor’s degree (B.A., B.S., B.Eng., etc.)   \n",
       "\n",
       "                                           LearnCode  \\\n",
       "0                                                NaN   \n",
       "1  Books / Physical media;Colleague;Friend or fam...   \n",
       "2  Books / Physical media;Colleague;On the job tr...   \n",
       "3  Colleague;Friend or family member;Other online...   \n",
       "4  Books / Physical media;Online Courses or Certi...   \n",
       "\n",
       "                                     LearnCodeOnline  ...        Frequency_1  \\\n",
       "0                                                NaN  ...                NaN   \n",
       "1  Formal documentation provided by the owner of ...  ...   1-2 times a week   \n",
       "2  Formal documentation provided by the owner of ...  ...  6-10 times a week   \n",
       "3  Formal documentation provided by the owner of ...  ...   1-2 times a week   \n",
       "4  Formal documentation provided by the owner of ...  ...   1-2 times a week   \n",
       "\n",
       "         Frequency_2       Frequency_3         TimeSearching  \\\n",
       "0                NaN               NaN                   NaN   \n",
       "1   10+ times a week             Never   15-30 minutes a day   \n",
       "2  6-10 times a week  3-5 times a week   30-60 minutes a day   \n",
       "3   10+ times a week  1-2 times a week   15-30 minutes a day   \n",
       "4   1-2 times a week  3-5 times a week  60-120 minutes a day   \n",
       "\n",
       "         TimeAnswering                                   ProfessionalTech  \\\n",
       "0                  NaN                                                NaN   \n",
       "1  15-30 minutes a day  DevOps function;Microservices;Automated testin...   \n",
       "2  30-60 minutes a day  DevOps function;Microservices;Automated testin...   \n",
       "3  30-60 minutes a day  Automated testing;Continuous integration (CI) ...   \n",
       "4  30-60 minutes a day  Microservices;Automated testing;Observability ...   \n",
       "\n",
       "                                            Industry           SurveyLength  \\\n",
       "0                                                NaN                    NaN   \n",
       "1  Information Services, IT, Software Development...  Appropriate in length   \n",
       "2  Information Services, IT, Software Development...  Appropriate in length   \n",
       "3                                                NaN  Appropriate in length   \n",
       "4                                              Other  Appropriate in length   \n",
       "\n",
       "                   SurveyEase ConvertedCompYearly  \n",
       "0                         NaN                 NaN  \n",
       "1                        Easy            285000.0  \n",
       "2                        Easy            250000.0  \n",
       "3                        Easy            156000.0  \n",
       "4  Neither easy nor difficult             23456.0  \n",
       "\n",
       "[5 rows x 84 columns]"
      ]
     },
     "execution_count": 2,
     "metadata": {},
     "output_type": "execute_result"
    }
   ],
   "source": [
    "df = pd.read_csv('survey_results_public.csv')\n",
    "df.head()"
   ]
  },
  {
   "cell_type": "code",
   "execution_count": 3,
   "id": "c6e20802",
   "metadata": {},
   "outputs": [
    {
     "data": {
      "text/plain": [
       "Index(['ResponseId', 'Q120', 'MainBranch', 'Age', 'Employment', 'RemoteWork',\n",
       "       'CodingActivities', 'EdLevel', 'LearnCode', 'LearnCodeOnline',\n",
       "       'LearnCodeCoursesCert', 'YearsCode', 'YearsCodePro', 'DevType',\n",
       "       'OrgSize', 'PurchaseInfluence', 'TechList', 'BuyNewTool', 'Country',\n",
       "       'Currency', 'CompTotal', 'LanguageHaveWorkedWith',\n",
       "       'LanguageWantToWorkWith', 'DatabaseHaveWorkedWith',\n",
       "       'DatabaseWantToWorkWith', 'PlatformHaveWorkedWith',\n",
       "       'PlatformWantToWorkWith', 'WebframeHaveWorkedWith',\n",
       "       'WebframeWantToWorkWith', 'MiscTechHaveWorkedWith',\n",
       "       'MiscTechWantToWorkWith', 'ToolsTechHaveWorkedWith',\n",
       "       'ToolsTechWantToWorkWith', 'NEWCollabToolsHaveWorkedWith',\n",
       "       'NEWCollabToolsWantToWorkWith', 'OpSysPersonal use',\n",
       "       'OpSysProfessional use', 'OfficeStackAsyncHaveWorkedWith',\n",
       "       'OfficeStackAsyncWantToWorkWith', 'OfficeStackSyncHaveWorkedWith',\n",
       "       'OfficeStackSyncWantToWorkWith', 'AISearchHaveWorkedWith',\n",
       "       'AISearchWantToWorkWith', 'AIDevHaveWorkedWith', 'AIDevWantToWorkWith',\n",
       "       'NEWSOSites', 'SOVisitFreq', 'SOAccount', 'SOPartFreq', 'SOComm',\n",
       "       'SOAI', 'AISelect', 'AISent', 'AIAcc', 'AIBen',\n",
       "       'AIToolInterested in Using', 'AIToolCurrently Using',\n",
       "       'AIToolNot interested in Using', 'AINextVery different',\n",
       "       'AINextNeither different nor similar', 'AINextSomewhat similar',\n",
       "       'AINextVery similar', 'AINextSomewhat different', 'TBranch', 'ICorPM',\n",
       "       'WorkExp', 'Knowledge_1', 'Knowledge_2', 'Knowledge_3', 'Knowledge_4',\n",
       "       'Knowledge_5', 'Knowledge_6', 'Knowledge_7', 'Knowledge_8',\n",
       "       'Frequency_1', 'Frequency_2', 'Frequency_3', 'TimeSearching',\n",
       "       'TimeAnswering', 'ProfessionalTech', 'Industry', 'SurveyLength',\n",
       "       'SurveyEase', 'ConvertedCompYearly'],\n",
       "      dtype='object')"
      ]
     },
     "execution_count": 3,
     "metadata": {},
     "output_type": "execute_result"
    }
   ],
   "source": [
    "df.columns"
   ]
  },
  {
   "cell_type": "code",
   "execution_count": 4,
   "id": "c060b016",
   "metadata": {},
   "outputs": [
    {
     "data": {
      "text/html": [
       "<div>\n",
       "<style scoped>\n",
       "    .dataframe tbody tr th:only-of-type {\n",
       "        vertical-align: middle;\n",
       "    }\n",
       "\n",
       "    .dataframe tbody tr th {\n",
       "        vertical-align: top;\n",
       "    }\n",
       "\n",
       "    .dataframe thead th {\n",
       "        text-align: right;\n",
       "    }\n",
       "</style>\n",
       "<table border=\"1\" class=\"dataframe\">\n",
       "  <thead>\n",
       "    <tr style=\"text-align: right;\">\n",
       "      <th></th>\n",
       "      <th>Country</th>\n",
       "      <th>Age</th>\n",
       "      <th>EdLevel</th>\n",
       "      <th>YearsCodePro</th>\n",
       "      <th>Employment</th>\n",
       "      <th>Salary</th>\n",
       "    </tr>\n",
       "  </thead>\n",
       "  <tbody>\n",
       "    <tr>\n",
       "      <th>0</th>\n",
       "      <td>NaN</td>\n",
       "      <td>18-24 years old</td>\n",
       "      <td>NaN</td>\n",
       "      <td>NaN</td>\n",
       "      <td>NaN</td>\n",
       "      <td>NaN</td>\n",
       "    </tr>\n",
       "    <tr>\n",
       "      <th>1</th>\n",
       "      <td>United States of America</td>\n",
       "      <td>25-34 years old</td>\n",
       "      <td>Bachelor’s degree (B.A., B.S., B.Eng., etc.)</td>\n",
       "      <td>9</td>\n",
       "      <td>Employed, full-time</td>\n",
       "      <td>285000.0</td>\n",
       "    </tr>\n",
       "    <tr>\n",
       "      <th>2</th>\n",
       "      <td>United States of America</td>\n",
       "      <td>45-54 years old</td>\n",
       "      <td>Bachelor’s degree (B.A., B.S., B.Eng., etc.)</td>\n",
       "      <td>23</td>\n",
       "      <td>Employed, full-time</td>\n",
       "      <td>250000.0</td>\n",
       "    </tr>\n",
       "    <tr>\n",
       "      <th>3</th>\n",
       "      <td>United States of America</td>\n",
       "      <td>25-34 years old</td>\n",
       "      <td>Bachelor’s degree (B.A., B.S., B.Eng., etc.)</td>\n",
       "      <td>7</td>\n",
       "      <td>Employed, full-time</td>\n",
       "      <td>156000.0</td>\n",
       "    </tr>\n",
       "    <tr>\n",
       "      <th>4</th>\n",
       "      <td>Philippines</td>\n",
       "      <td>25-34 years old</td>\n",
       "      <td>Bachelor’s degree (B.A., B.S., B.Eng., etc.)</td>\n",
       "      <td>4</td>\n",
       "      <td>Employed, full-time;Independent contractor, fr...</td>\n",
       "      <td>23456.0</td>\n",
       "    </tr>\n",
       "  </tbody>\n",
       "</table>\n",
       "</div>"
      ],
      "text/plain": [
       "                    Country              Age  \\\n",
       "0                       NaN  18-24 years old   \n",
       "1  United States of America  25-34 years old   \n",
       "2  United States of America  45-54 years old   \n",
       "3  United States of America  25-34 years old   \n",
       "4               Philippines  25-34 years old   \n",
       "\n",
       "                                        EdLevel YearsCodePro  \\\n",
       "0                                           NaN          NaN   \n",
       "1  Bachelor’s degree (B.A., B.S., B.Eng., etc.)            9   \n",
       "2  Bachelor’s degree (B.A., B.S., B.Eng., etc.)           23   \n",
       "3  Bachelor’s degree (B.A., B.S., B.Eng., etc.)            7   \n",
       "4  Bachelor’s degree (B.A., B.S., B.Eng., etc.)            4   \n",
       "\n",
       "                                          Employment    Salary  \n",
       "0                                                NaN       NaN  \n",
       "1                                Employed, full-time  285000.0  \n",
       "2                                Employed, full-time  250000.0  \n",
       "3                                Employed, full-time  156000.0  \n",
       "4  Employed, full-time;Independent contractor, fr...   23456.0  "
      ]
     },
     "execution_count": 4,
     "metadata": {},
     "output_type": "execute_result"
    }
   ],
   "source": [
    "df = df[['Country', 'Age', 'EdLevel', 'YearsCodePro', 'Employment', 'ConvertedCompYearly']]\n",
    "df = df.rename({'ConvertedCompYearly' : 'Salary'}, axis = 1)\n",
    "df.head()"
   ]
  },
  {
   "cell_type": "code",
   "execution_count": 5,
   "id": "5efdba4b",
   "metadata": {},
   "outputs": [
    {
     "data": {
      "text/html": [
       "<div>\n",
       "<style scoped>\n",
       "    .dataframe tbody tr th:only-of-type {\n",
       "        vertical-align: middle;\n",
       "    }\n",
       "\n",
       "    .dataframe tbody tr th {\n",
       "        vertical-align: top;\n",
       "    }\n",
       "\n",
       "    .dataframe thead th {\n",
       "        text-align: right;\n",
       "    }\n",
       "</style>\n",
       "<table border=\"1\" class=\"dataframe\">\n",
       "  <thead>\n",
       "    <tr style=\"text-align: right;\">\n",
       "      <th></th>\n",
       "      <th>Country</th>\n",
       "      <th>Age</th>\n",
       "      <th>EdLevel</th>\n",
       "      <th>YearsCodePro</th>\n",
       "      <th>Employment</th>\n",
       "      <th>Salary</th>\n",
       "    </tr>\n",
       "  </thead>\n",
       "  <tbody>\n",
       "    <tr>\n",
       "      <th>1</th>\n",
       "      <td>United States of America</td>\n",
       "      <td>25-34 years old</td>\n",
       "      <td>Bachelor’s degree (B.A., B.S., B.Eng., etc.)</td>\n",
       "      <td>9</td>\n",
       "      <td>Employed, full-time</td>\n",
       "      <td>285000.0</td>\n",
       "    </tr>\n",
       "    <tr>\n",
       "      <th>2</th>\n",
       "      <td>United States of America</td>\n",
       "      <td>45-54 years old</td>\n",
       "      <td>Bachelor’s degree (B.A., B.S., B.Eng., etc.)</td>\n",
       "      <td>23</td>\n",
       "      <td>Employed, full-time</td>\n",
       "      <td>250000.0</td>\n",
       "    </tr>\n",
       "    <tr>\n",
       "      <th>3</th>\n",
       "      <td>United States of America</td>\n",
       "      <td>25-34 years old</td>\n",
       "      <td>Bachelor’s degree (B.A., B.S., B.Eng., etc.)</td>\n",
       "      <td>7</td>\n",
       "      <td>Employed, full-time</td>\n",
       "      <td>156000.0</td>\n",
       "    </tr>\n",
       "    <tr>\n",
       "      <th>4</th>\n",
       "      <td>Philippines</td>\n",
       "      <td>25-34 years old</td>\n",
       "      <td>Bachelor’s degree (B.A., B.S., B.Eng., etc.)</td>\n",
       "      <td>4</td>\n",
       "      <td>Employed, full-time;Independent contractor, fr...</td>\n",
       "      <td>23456.0</td>\n",
       "    </tr>\n",
       "    <tr>\n",
       "      <th>5</th>\n",
       "      <td>United Kingdom of Great Britain and Northern I...</td>\n",
       "      <td>35-44 years old</td>\n",
       "      <td>Some college/university study without earning ...</td>\n",
       "      <td>21</td>\n",
       "      <td>Employed, full-time</td>\n",
       "      <td>96828.0</td>\n",
       "    </tr>\n",
       "  </tbody>\n",
       "</table>\n",
       "</div>"
      ],
      "text/plain": [
       "                                             Country              Age  \\\n",
       "1                           United States of America  25-34 years old   \n",
       "2                           United States of America  45-54 years old   \n",
       "3                           United States of America  25-34 years old   \n",
       "4                                        Philippines  25-34 years old   \n",
       "5  United Kingdom of Great Britain and Northern I...  35-44 years old   \n",
       "\n",
       "                                             EdLevel YearsCodePro  \\\n",
       "1       Bachelor’s degree (B.A., B.S., B.Eng., etc.)            9   \n",
       "2       Bachelor’s degree (B.A., B.S., B.Eng., etc.)           23   \n",
       "3       Bachelor’s degree (B.A., B.S., B.Eng., etc.)            7   \n",
       "4       Bachelor’s degree (B.A., B.S., B.Eng., etc.)            4   \n",
       "5  Some college/university study without earning ...           21   \n",
       "\n",
       "                                          Employment    Salary  \n",
       "1                                Employed, full-time  285000.0  \n",
       "2                                Employed, full-time  250000.0  \n",
       "3                                Employed, full-time  156000.0  \n",
       "4  Employed, full-time;Independent contractor, fr...   23456.0  \n",
       "5                                Employed, full-time   96828.0  "
      ]
     },
     "execution_count": 5,
     "metadata": {},
     "output_type": "execute_result"
    }
   ],
   "source": [
    "df = df[df['Salary'].notnull()]\n",
    "df.head()"
   ]
  },
  {
   "cell_type": "code",
   "execution_count": 6,
   "id": "5d46575d",
   "metadata": {},
   "outputs": [
    {
     "name": "stdout",
     "output_type": "stream",
     "text": [
      "<class 'pandas.core.frame.DataFrame'>\n",
      "Index: 48019 entries, 1 to 89171\n",
      "Data columns (total 6 columns):\n",
      " #   Column        Non-Null Count  Dtype  \n",
      "---  ------        --------------  -----  \n",
      " 0   Country       48019 non-null  object \n",
      " 1   Age           48019 non-null  object \n",
      " 2   EdLevel       48019 non-null  object \n",
      " 3   YearsCodePro  47825 non-null  object \n",
      " 4   Employment    48007 non-null  object \n",
      " 5   Salary        48019 non-null  float64\n",
      "dtypes: float64(1), object(5)\n",
      "memory usage: 2.6+ MB\n"
     ]
    }
   ],
   "source": [
    "df.info()"
   ]
  },
  {
   "cell_type": "code",
   "execution_count": 7,
   "id": "55d3852b",
   "metadata": {},
   "outputs": [
    {
     "data": {
      "text/plain": [
       "Country           0\n",
       "Age               0\n",
       "EdLevel           0\n",
       "YearsCodePro    194\n",
       "Employment       12\n",
       "Salary            0\n",
       "dtype: int64"
      ]
     },
     "execution_count": 7,
     "metadata": {},
     "output_type": "execute_result"
    }
   ],
   "source": [
    "df.isnull().sum()"
   ]
  },
  {
   "cell_type": "code",
   "execution_count": 8,
   "id": "82e4e29e",
   "metadata": {},
   "outputs": [
    {
     "data": {
      "text/plain": [
       "Country         0\n",
       "Age             0\n",
       "EdLevel         0\n",
       "YearsCodePro    0\n",
       "Employment      0\n",
       "Salary          0\n",
       "dtype: int64"
      ]
     },
     "execution_count": 8,
     "metadata": {},
     "output_type": "execute_result"
    }
   ],
   "source": [
    "df = df.dropna()\n",
    "df.isnull().sum()"
   ]
  },
  {
   "cell_type": "code",
   "execution_count": 9,
   "id": "3753ddc5",
   "metadata": {},
   "outputs": [
    {
     "data": {
      "text/plain": [
       "Country\n",
       "United States of America                                11846\n",
       "Germany                                                  3947\n",
       "United Kingdom of Great Britain and Northern Ireland     3521\n",
       "Canada                                                   2095\n",
       "India                                                    1849\n",
       "                                                        ...  \n",
       "Guinea-Bissau                                               1\n",
       "Mauritania                                                  1\n",
       "Botswana                                                    1\n",
       "Guyana                                                      1\n",
       "Antigua and Barbuda                                         1\n",
       "Name: count, Length: 171, dtype: int64"
      ]
     },
     "execution_count": 9,
     "metadata": {},
     "output_type": "execute_result"
    }
   ],
   "source": [
    "df['Country'].value_counts()"
   ]
  },
  {
   "cell_type": "code",
   "execution_count": 10,
   "id": "c5df9cd0",
   "metadata": {},
   "outputs": [
    {
     "data": {
      "text/plain": [
       "Employment\n",
       "Employed, full-time                                                                             39155\n",
       "Independent contractor, freelancer, or self-employed                                             3880\n",
       "Employed, full-time;Independent contractor, freelancer, or self-employed                         3282\n",
       "Employed, part-time                                                                               899\n",
       "Independent contractor, freelancer, or self-employed;Employed, part-time                          238\n",
       "Employed, full-time;Employed, part-time                                                           152\n",
       "Employed, full-time;Independent contractor, freelancer, or self-employed;Employed, part-time      109\n",
       "Retired                                                                                            33\n",
       "I prefer not to say                                                                                33\n",
       "Independent contractor, freelancer, or self-employed;Retired                                       16\n",
       "Employed, full-time;Retired                                                                         7\n",
       "Employed, full-time;Independent contractor, freelancer, or self-employed;Retired                    4\n",
       "Employed, part-time;Retired                                                                         3\n",
       "Independent contractor, freelancer, or self-employed;Employed, part-time;Retired                    2\n",
       "Name: count, dtype: int64"
      ]
     },
     "execution_count": 10,
     "metadata": {},
     "output_type": "execute_result"
    }
   ],
   "source": [
    "df['Employment'].value_counts()"
   ]
  },
  {
   "cell_type": "code",
   "execution_count": 11,
   "id": "42db6384",
   "metadata": {},
   "outputs": [
    {
     "name": "stdout",
     "output_type": "stream",
     "text": [
      "<class 'pandas.core.frame.DataFrame'>\n",
      "Index: 39155 entries, 1 to 89171\n",
      "Data columns (total 6 columns):\n",
      " #   Column        Non-Null Count  Dtype  \n",
      "---  ------        --------------  -----  \n",
      " 0   Country       39155 non-null  object \n",
      " 1   Age           39155 non-null  object \n",
      " 2   EdLevel       39155 non-null  object \n",
      " 3   YearsCodePro  39155 non-null  object \n",
      " 4   Employment    39155 non-null  object \n",
      " 5   Salary        39155 non-null  float64\n",
      "dtypes: float64(1), object(5)\n",
      "memory usage: 2.1+ MB\n"
     ]
    }
   ],
   "source": [
    "df = df[df['Employment'] == 'Employed, full-time']\n",
    "df.info()"
   ]
  },
  {
   "cell_type": "code",
   "execution_count": 12,
   "id": "c54cf479",
   "metadata": {},
   "outputs": [
    {
     "name": "stdout",
     "output_type": "stream",
     "text": [
      "<class 'pandas.core.frame.DataFrame'>\n",
      "Index: 39155 entries, 1 to 89171\n",
      "Data columns (total 5 columns):\n",
      " #   Column        Non-Null Count  Dtype  \n",
      "---  ------        --------------  -----  \n",
      " 0   Country       39155 non-null  object \n",
      " 1   Age           39155 non-null  object \n",
      " 2   EdLevel       39155 non-null  object \n",
      " 3   YearsCodePro  39155 non-null  object \n",
      " 4   Salary        39155 non-null  float64\n",
      "dtypes: float64(1), object(4)\n",
      "memory usage: 1.8+ MB\n"
     ]
    }
   ],
   "source": [
    "df= df.drop(\"Employment\", axis = 1)\n",
    "df.info()"
   ]
  },
  {
   "cell_type": "code",
   "execution_count": 13,
   "id": "cbf5c831",
   "metadata": {},
   "outputs": [
    {
     "data": {
      "text/html": [
       "<div>\n",
       "<style scoped>\n",
       "    .dataframe tbody tr th:only-of-type {\n",
       "        vertical-align: middle;\n",
       "    }\n",
       "\n",
       "    .dataframe tbody tr th {\n",
       "        vertical-align: top;\n",
       "    }\n",
       "\n",
       "    .dataframe thead th {\n",
       "        text-align: right;\n",
       "    }\n",
       "</style>\n",
       "<table border=\"1\" class=\"dataframe\">\n",
       "  <thead>\n",
       "    <tr style=\"text-align: right;\">\n",
       "      <th></th>\n",
       "      <th>Country</th>\n",
       "      <th>Age</th>\n",
       "      <th>EdLevel</th>\n",
       "      <th>YearsCodePro</th>\n",
       "      <th>Salary</th>\n",
       "    </tr>\n",
       "  </thead>\n",
       "  <tbody>\n",
       "    <tr>\n",
       "      <th>89160</th>\n",
       "      <td>Mexico</td>\n",
       "      <td>25-34 years old</td>\n",
       "      <td>Professional degree (JD, MD, Ph.D, Ed.D, etc.)</td>\n",
       "      <td>5</td>\n",
       "      <td>28625.0</td>\n",
       "    </tr>\n",
       "    <tr>\n",
       "      <th>89162</th>\n",
       "      <td>Brazil</td>\n",
       "      <td>35-44 years old</td>\n",
       "      <td>Master’s degree (M.A., M.S., M.Eng., MBA, etc.)</td>\n",
       "      <td>24</td>\n",
       "      <td>50719.0</td>\n",
       "    </tr>\n",
       "    <tr>\n",
       "      <th>89167</th>\n",
       "      <td>India</td>\n",
       "      <td>18-24 years old</td>\n",
       "      <td>Bachelor’s degree (B.A., B.S., B.Eng., etc.)</td>\n",
       "      <td>2</td>\n",
       "      <td>15752.0</td>\n",
       "    </tr>\n",
       "    <tr>\n",
       "      <th>89170</th>\n",
       "      <td>France</td>\n",
       "      <td>25-34 years old</td>\n",
       "      <td>Master’s degree (M.A., M.S., M.Eng., MBA, etc.)</td>\n",
       "      <td>9</td>\n",
       "      <td>64254.0</td>\n",
       "    </tr>\n",
       "    <tr>\n",
       "      <th>89171</th>\n",
       "      <td>Greece</td>\n",
       "      <td>25-34 years old</td>\n",
       "      <td>Master’s degree (M.A., M.S., M.Eng., MBA, etc.)</td>\n",
       "      <td>9</td>\n",
       "      <td>61041.0</td>\n",
       "    </tr>\n",
       "  </tbody>\n",
       "</table>\n",
       "</div>"
      ],
      "text/plain": [
       "      Country              Age  \\\n",
       "89160  Mexico  25-34 years old   \n",
       "89162  Brazil  35-44 years old   \n",
       "89167   India  18-24 years old   \n",
       "89170  France  25-34 years old   \n",
       "89171  Greece  25-34 years old   \n",
       "\n",
       "                                               EdLevel YearsCodePro   Salary  \n",
       "89160   Professional degree (JD, MD, Ph.D, Ed.D, etc.)            5  28625.0  \n",
       "89162  Master’s degree (M.A., M.S., M.Eng., MBA, etc.)           24  50719.0  \n",
       "89167     Bachelor’s degree (B.A., B.S., B.Eng., etc.)            2  15752.0  \n",
       "89170  Master’s degree (M.A., M.S., M.Eng., MBA, etc.)            9  64254.0  \n",
       "89171  Master’s degree (M.A., M.S., M.Eng., MBA, etc.)            9  61041.0  "
      ]
     },
     "execution_count": 13,
     "metadata": {},
     "output_type": "execute_result"
    }
   ],
   "source": [
    "df.tail()"
   ]
  },
  {
   "cell_type": "code",
   "execution_count": 14,
   "id": "dd19ac16",
   "metadata": {},
   "outputs": [],
   "source": [
    "def shorten_categories(categories, cutoff):\n",
    "    categorical_map = {}\n",
    "    for i in range(len(categories)):\n",
    "        if categories.values[i] >= cutoff:\n",
    "            categorical_map[categories.index[i]] = categories.index[i]\n",
    "        else:\n",
    "            categorical_map[categories.index[i]] = 'Other'\n",
    "    return categorical_map"
   ]
  },
  {
   "cell_type": "code",
   "execution_count": 15,
   "id": "66c92641",
   "metadata": {},
   "outputs": [
    {
     "data": {
      "text/plain": [
       "Country\n",
       "United States of America                                10569\n",
       "Other                                                    9282\n",
       "Germany                                                  3201\n",
       "United Kingdom of Great Britain and Northern Ireland     3072\n",
       "Canada                                                   1807\n",
       "India                                                    1600\n",
       "France                                                   1458\n",
       "Netherlands                                              1002\n",
       "Australia                                                 985\n",
       "Brazil                                                    972\n",
       "Spain                                                     966\n",
       "Sweden                                                    882\n",
       "Italy                                                     826\n",
       "Poland                                                    740\n",
       "Switzerland                                               511\n",
       "Denmark                                                   440\n",
       "Norway                                                    428\n",
       "Israel                                                    414\n",
       "Name: count, dtype: int64"
      ]
     },
     "execution_count": 15,
     "metadata": {},
     "output_type": "execute_result"
    }
   ],
   "source": [
    "country_map = shorten_categories(df.Country.value_counts(), 400)\n",
    "\n",
    "df['Country'] = df['Country'].map(country_map)\n",
    "\n",
    "df.Country.value_counts()"
   ]
  },
  {
   "cell_type": "code",
   "execution_count": 16,
   "id": "ecefad72",
   "metadata": {},
   "outputs": [],
   "source": [
    "salary_outliers = df['Salary'].nlargest(10)\n",
    "salary_outliers\n",
    "\n",
    "outliers_index = df['Salary'].nlargest(10).index"
   ]
  },
  {
   "cell_type": "code",
   "execution_count": 17,
   "id": "c68edc73",
   "metadata": {},
   "outputs": [],
   "source": [
    "df = df.drop(outliers_index)"
   ]
  },
  {
   "cell_type": "code",
   "execution_count": 18,
   "id": "3fcd1085",
   "metadata": {},
   "outputs": [
    {
     "data": {
      "image/png": "[encoded data removed]",
      "text/plain": [
       "<Figure size 1200x700 with 1 Axes>"
      ]
     },
     "metadata": {},
     "output_type": "display_data"
    }
   ],
   "source": [
    "fig, ax = plt.subplots(1,1, figsize = (12, 7))\n",
    "\n",
    "df.boxplot('Salary', 'Country', ax=ax)\n",
    "plt.suptitle(\"Salary (US$) vs Country\")\n",
    "plt.xlabel(\"Countries\")\n",
    "plt.ylabel(\"Salaries\")\n",
    "plt.xticks(rotation = 90)\n",
    "#plt.tight_layout()\n",
    "plt.show()"
   ]
  },
  {
   "cell_type": "code",
   "execution_count": 19,
   "id": "e9bb21ef",
   "metadata": {},
   "outputs": [],
   "source": [
    "df = df[df['Salary'] <= 250000]\n",
    "df = df[df['Salary'] >= 10000]\n",
    "df = df[df['Country'] != 'Other']"
   ]
  },
  {
   "cell_type": "code",
   "execution_count": 20,
   "id": "01be213a",
   "metadata": {},
   "outputs": [
    {
     "data": {
      "image/png": "[encoded data removed]",
      "text/plain": [
       "<Figure size 1200x700 with 1 Axes>"
      ]
     },
     "metadata": {},
     "output_type": "display_data"
    }
   ],
   "source": [
    "fig, ax = plt.subplots(1,1, figsize = (12, 7))\n",
    "\n",
    "df.boxplot('Salary', 'Country', ax=ax)\n",
    "plt.suptitle(\"Salary (US$) vs Country\")\n",
    "plt.xlabel(\"Countries\")\n",
    "plt.ylabel(\"Salaries\")\n",
    "plt.xticks(rotation = 90)\n",
    "#plt.tight_layout()\n",
    "plt.show()"
   ]
  },
  {
   "cell_type": "code",
   "execution_count": 21,
   "id": "d74cf60b",
   "metadata": {},
   "outputs": [
    {
     "data": {
      "text/plain": [
       "array(['23', '7', '21', '3', '9', 'Less than 1 year', '10', '2', '6',\n",
       "       '14', '5', '15', '19', '13', '16', '28', '24', '25', '12', '4',\n",
       "       '20', '8', '18', '30', '27', '17', '43', '38', '33', '29', '22',\n",
       "       '1', '11', '34', '42', '26', '31', '36', '39', '40', '32', '44',\n",
       "       '37', '35', '48', 'More than 50 years', '45', '41', '50', '46',\n",
       "       '49', '47'], dtype=object)"
      ]
     },
     "execution_count": 21,
     "metadata": {},
     "output_type": "execute_result"
    }
   ],
   "source": [
    "df['YearsCodePro'].unique()"
   ]
  },
  {
   "cell_type": "code",
   "execution_count": 22,
   "id": "bcfd00a6",
   "metadata": {},
   "outputs": [],
   "source": [
    "def clean_experience(x):\n",
    "    if x == \"More than 50 years\":\n",
    "        return 50\n",
    "    if x == \"Less than 1 year\":\n",
    "        return 0.5\n",
    "    return float(x)\n",
    "\n",
    "df['YearsCodePro'] = df['YearsCodePro'].apply(clean_experience)"
   ]
  },
  {
   "cell_type": "code",
   "execution_count": 23,
   "id": "08f0612e",
   "metadata": {
    "scrolled": true
   },
   "outputs": [
    {
     "data": {
      "text/plain": [
       "array(['Bachelor’s degree (B.A., B.S., B.Eng., etc.)',\n",
       "       'Some college/university study without earning a degree',\n",
       "       'Master’s degree (M.A., M.S., M.Eng., MBA, etc.)',\n",
       "       'Professional degree (JD, MD, Ph.D, Ed.D, etc.)',\n",
       "       'Associate degree (A.A., A.S., etc.)',\n",
       "       'Secondary school (e.g. American high school, German Realschule or Gymnasium, etc.)',\n",
       "       'Primary/elementary school', 'Something else'], dtype=object)"
      ]
     },
     "execution_count": 23,
     "metadata": {},
     "output_type": "execute_result"
    }
   ],
   "source": [
    "df['EdLevel'].unique()"
   ]
  },
  {
   "cell_type": "code",
   "execution_count": 24,
   "id": "16d1d240",
   "metadata": {},
   "outputs": [
    {
     "data": {
      "text/plain": [
       "EdLevel\n",
       "Bachelor’s degree (B.A., B.S., B.Eng., etc.)                                          13333\n",
       "Master’s degree (M.A., M.S., M.Eng., MBA, etc.)                                        7439\n",
       "Some college/university study without earning a degree                                 2985\n",
       "Professional degree (JD, MD, Ph.D, Ed.D, etc.)                                         1421\n",
       "Secondary school (e.g. American high school, German Realschule or Gymnasium, etc.)     1151\n",
       "Associate degree (A.A., A.S., etc.)                                                    1027\n",
       "Something else                                                                          278\n",
       "Primary/elementary school                                                                82\n",
       "Name: count, dtype: int64"
      ]
     },
     "execution_count": 24,
     "metadata": {},
     "output_type": "execute_result"
    }
   ],
   "source": [
    "df['EdLevel'].value_counts()"
   ]
  },
  {
   "cell_type": "code",
   "execution_count": 25,
   "id": "8382f732",
   "metadata": {},
   "outputs": [],
   "source": [
    "def clean_education(x):\n",
    "    if \"Bachelor\" in x:\n",
    "        return \"Bachelor's degree\"\n",
    "    if \"Master\" in x:\n",
    "        return \"Master's degree\"\n",
    "    if \"Professional degree\" in x:\n",
    "        return \"Post Grad\"\n",
    "    return \"Less than a Bachelors\"\n",
    "\n",
    "df['EdLevel'] =df['EdLevel'].apply(clean_education)"
   ]
  },
  {
   "cell_type": "code",
   "execution_count": 26,
   "id": "4caaea76",
   "metadata": {},
   "outputs": [
    {
     "data": {
      "text/plain": [
       "array([\"Bachelor's degree\", 'Less than a Bachelors', \"Master's degree\",\n",
       "       'Post Grad'], dtype=object)"
      ]
     },
     "execution_count": 26,
     "metadata": {},
     "output_type": "execute_result"
    }
   ],
   "source": [
    "df['EdLevel'].unique()"
   ]
  },
  {
   "cell_type": "code",
   "execution_count": 27,
   "id": "909a87a5",
   "metadata": {},
   "outputs": [
    {
     "data": {
      "text/plain": [
       "EdLevel\n",
       "Bachelor's degree        13333\n",
       "Master's degree           7439\n",
       "Less than a Bachelors     5523\n",
       "Post Grad                 1421\n",
       "Name: count, dtype: int64"
      ]
     },
     "execution_count": 27,
     "metadata": {},
     "output_type": "execute_result"
    }
   ],
   "source": [
    "df['EdLevel'].value_counts()"
   ]
  },
  {
   "cell_type": "code",
   "execution_count": 28,
   "id": "5e28d137",
   "metadata": {},
   "outputs": [
    {
     "data": {
      "text/plain": [
       "array([0, 1, 2, 3])"
      ]
     },
     "execution_count": 28,
     "metadata": {},
     "output_type": "execute_result"
    }
   ],
   "source": [
    "from sklearn.preprocessing import LabelEncoder\n",
    "\n",
    "le_education = LabelEncoder()\n",
    "\n",
    "df['EdLevel'] = le_education.fit_transform(df['EdLevel'])\n",
    "\n",
    "df['EdLevel'].unique()"
   ]
  },
  {
   "cell_type": "code",
   "execution_count": 29,
   "id": "aa00f3b0",
   "metadata": {},
   "outputs": [
    {
     "data": {
      "text/plain": [
       "array([\"Bachelor's degree\", 'Less than a Bachelors', \"Master's degree\",\n",
       "       'Post Grad'], dtype=object)"
      ]
     },
     "execution_count": 29,
     "metadata": {},
     "output_type": "execute_result"
    }
   ],
   "source": [
    "le_education.classes_"
   ]
  },
  {
   "cell_type": "code",
   "execution_count": 30,
   "id": "76817309",
   "metadata": {},
   "outputs": [
    {
     "data": {
      "text/plain": [
       "array([16, 15,  0,  9,  5, 13,  4, 12,  1,  8,  2, 14,  6, 10,  3,  7, 11])"
      ]
     },
     "execution_count": 30,
     "metadata": {},
     "output_type": "execute_result"
    }
   ],
   "source": [
    "le_country = LabelEncoder()\n",
    "\n",
    "df['Country'] = le_country.fit_transform(df['Country'])\n",
    "\n",
    "df['Country'].unique()"
   ]
  },
  {
   "cell_type": "code",
   "execution_count": 31,
   "id": "bcb24fd1",
   "metadata": {
    "scrolled": true
   },
   "outputs": [
    {
     "data": {
      "text/plain": [
       "array(['Australia', 'Brazil', 'Canada', 'Denmark', 'France', 'Germany',\n",
       "       'India', 'Israel', 'Italy', 'Netherlands', 'Norway', 'Poland',\n",
       "       'Spain', 'Sweden', 'Switzerland',\n",
       "       'United Kingdom of Great Britain and Northern Ireland',\n",
       "       'United States of America'], dtype=object)"
      ]
     },
     "execution_count": 31,
     "metadata": {},
     "output_type": "execute_result"
    }
   ],
   "source": [
    "le_country.classes_"
   ]
  },
  {
   "cell_type": "code",
   "execution_count": 32,
   "id": "dab4f3c5",
   "metadata": {
    "scrolled": true
   },
   "outputs": [
    {
     "data": {
      "text/plain": [
       "array(['45-54 years old', '25-34 years old', '35-44 years old',\n",
       "       '55-64 years old', '18-24 years old', '65 years or older',\n",
       "       'Prefer not to say', 'Under 18 years old'], dtype=object)"
      ]
     },
     "execution_count": 32,
     "metadata": {},
     "output_type": "execute_result"
    }
   ],
   "source": [
    "df['Age'].unique()"
   ]
  },
  {
   "cell_type": "code",
   "execution_count": 33,
   "id": "87bc7daf",
   "metadata": {},
   "outputs": [],
   "source": [
    "def clean_age(x):\n",
    "    if \"18-24\" in x:\n",
    "        return \"18-24 years old\"\n",
    "    if \"25-34\" in x:\n",
    "        return \"25-34 years old\"\n",
    "    if \"35-44\" in x:\n",
    "        return \"35-44 years old\"\n",
    "    if \"45-54\" in x:\n",
    "        return \"45-54 years old\"\n",
    "    if \"55-64\" in x:\n",
    "        return \"55-64 years old\"\n",
    "    return \"Under 18 years old\"\n",
    "\n",
    "df['Age'] = df['Age'].apply(clean_age)"
   ]
  },
  {
   "cell_type": "code",
   "execution_count": 34,
   "id": "addd32fa",
   "metadata": {},
   "outputs": [
    {
     "data": {
      "text/plain": [
       "array(['45-54 years old', '25-34 years old', '35-44 years old',\n",
       "       '55-64 years old', '18-24 years old', 'Under 18 years old'],\n",
       "      dtype=object)"
      ]
     },
     "execution_count": 34,
     "metadata": {},
     "output_type": "execute_result"
    }
   ],
   "source": [
    "df['Age'].unique()"
   ]
  },
  {
   "cell_type": "code",
   "execution_count": 35,
   "id": "16630229",
   "metadata": {},
   "outputs": [
    {
     "data": {
      "text/plain": [
       "array([3, 1, 2, 4, 0, 5])"
      ]
     },
     "execution_count": 35,
     "metadata": {},
     "output_type": "execute_result"
    }
   ],
   "source": [
    "le_age = LabelEncoder()\n",
    "\n",
    "df['Age'] = le_age.fit_transform(df['Age'])\n",
    "df['Age'].unique()"
   ]
  },
  {
   "cell_type": "code",
   "execution_count": 36,
   "id": "f813a4fb",
   "metadata": {},
   "outputs": [],
   "source": [
    "X = df.drop(\"Salary\", axis = 1)\n",
    "y = df[\"Salary\"]"
   ]
  },
  {
   "cell_type": "code",
   "execution_count": 37,
   "id": "b713229d",
   "metadata": {},
   "outputs": [
    {
     "data": {
      "text/html": [
       "<style>#sk-container-id-1 {color: black;}#sk-container-id-1 pre{padding: 0;}#sk-container-id-1 div.sk-toggleable {background-color: white;}#sk-container-id-1 label.sk-toggleable__label {cursor: pointer;display: block;width: 100%;margin-bottom: 0;padding: 0.3em;box-sizing: border-box;text-align: center;}#sk-container-id-1 label.sk-toggleable__label-arrow:before {content: \"▸\";float: left;margin-right: 0.25em;color: #696969;}#sk-container-id-1 label.sk-toggleable__label-arrow:hover:before {color: black;}#sk-container-id-1 div.sk-estimator:hover label.sk-toggleable__label-arrow:before {color: black;}#sk-container-id-1 div.sk-toggleable__content {max-height: 0;max-width: 0;overflow: hidden;text-align: left;background-color: #f0f8ff;}#sk-container-id-1 div.sk-toggleable__content pre {margin: 0.2em;color: black;border-radius: 0.25em;background-color: #f0f8ff;}#sk-container-id-1 input.sk-toggleable__control:checked~div.sk-toggleable__content {max-height: 200px;max-width: 100%;overflow: auto;}#sk-container-id-1 input.sk-toggleable__control:checked~label.sk-toggleable__label-arrow:before {content: \"▾\";}#sk-container-id-1 div.sk-estimator input.sk-toggleable__control:checked~label.sk-toggleable__label {background-color: #d4ebff;}#sk-container-id-1 div.sk-label input.sk-toggleable__control:checked~label.sk-toggleable__label {background-color: #d4ebff;}#sk-container-id-1 input.sk-hidden--visually {border: 0;clip: rect(1px 1px 1px 1px);clip: rect(1px, 1px, 1px, 1px);height: 1px;margin: -1px;overflow: hidden;padding: 0;position: absolute;width: 1px;}#sk-container-id-1 div.sk-estimator {font-family: monospace;background-color: #f0f8ff;border: 1px dotted black;border-radius: 0.25em;box-sizing: border-box;margin-bottom: 0.5em;}#sk-container-id-1 div.sk-estimator:hover {background-color: #d4ebff;}#sk-container-id-1 div.sk-parallel-item::after {content: \"\";width: 100%;border-bottom: 1px solid gray;flex-grow: 1;}#sk-container-id-1 div.sk-label:hover label.sk-toggleable__label {background-color: #d4ebff;}#sk-container-id-1 div.sk-serial::before {content: \"\";position: absolute;border-left: 1px solid gray;box-sizing: border-box;top: 0;bottom: 0;left: 50%;z-index: 0;}#sk-container-id-1 div.sk-serial {display: flex;flex-direction: column;align-items: center;background-color: white;padding-right: 0.2em;padding-left: 0.2em;position: relative;}#sk-container-id-1 div.sk-item {position: relative;z-index: 1;}#sk-container-id-1 div.sk-parallel {display: flex;align-items: stretch;justify-content: center;background-color: white;position: relative;}#sk-container-id-1 div.sk-item::before, #sk-container-id-1 div.sk-parallel-item::before {content: \"\";position: absolute;border-left: 1px solid gray;box-sizing: border-box;top: 0;bottom: 0;left: 50%;z-index: -1;}#sk-container-id-1 div.sk-parallel-item {display: flex;flex-direction: column;z-index: 1;position: relative;background-color: white;}#sk-container-id-1 div.sk-parallel-item:first-child::after {align-self: flex-end;width: 50%;}#sk-container-id-1 div.sk-parallel-item:last-child::after {align-self: flex-start;width: 50%;}#sk-container-id-1 div.sk-parallel-item:only-child::after {width: 0;}#sk-container-id-1 div.sk-dashed-wrapped {border: 1px dashed gray;margin: 0 0.4em 0.5em 0.4em;box-sizing: border-box;padding-bottom: 0.4em;background-color: white;}#sk-container-id-1 div.sk-label label {font-family: monospace;font-weight: bold;display: inline-block;line-height: 1.2em;}#sk-container-id-1 div.sk-label-container {text-align: center;}#sk-container-id-1 div.sk-container {/* jupyter's `normalize.less` sets `[hidden] { display: none; }` but bootstrap.min.css set `[hidden] { display: none !important; }` so we also need the `!important` here to be able to override the default hidden behavior on the sphinx rendered scikit-learn.org. See: https://github.com/scikit-learn/scikit-learn/issues/21755 */display: inline-block !important;position: relative;}#sk-container-id-1 div.sk-text-repr-fallback {display: none;}</style><div id=\"sk-container-id-1\" class=\"sk-top-container\"><div class=\"sk-text-repr-fallback\"><pre>LinearRegression()</pre><b>In a Jupyter environment, please rerun this cell to show the HTML representation or trust the notebook. <br />On GitHub, the HTML representation is unable to render, please try loading this page with nbviewer.org.</b></div><div class=\"sk-container\" hidden><div class=\"sk-item\"><div class=\"sk-estimator sk-toggleable\"><input class=\"sk-toggleable__control sk-hidden--visually\" id=\"sk-estimator-id-1\" type=\"checkbox\" checked><label for=\"sk-estimator-id-1\" class=\"sk-toggleable__label sk-toggleable__label-arrow\">LinearRegression</label><div class=\"sk-toggleable__content\"><pre>LinearRegression()</pre></div></div></div></div></div>"
      ],
      "text/plain": [
       "LinearRegression()"
      ]
     },
     "execution_count": 37,
     "metadata": {},
     "output_type": "execute_result"
    }
   ],
   "source": [
    "from sklearn.linear_model import LinearRegression\n",
    "\n",
    "regressor = LinearRegression()\n",
    "\n",
    "regressor.fit(X, y)"
   ]
  },
  {
   "cell_type": "code",
   "execution_count": 38,
   "id": "d82c412b",
   "metadata": {},
   "outputs": [],
   "source": [
    "y_pred = regressor.predict(X)"
   ]
  },
  {
   "cell_type": "code",
   "execution_count": 39,
   "id": "d5cc915a",
   "metadata": {},
   "outputs": [],
   "source": [
    "from sklearn.metrics import mean_squared_error, mean_absolute_error\n",
    "\n",
    "error = np.sqrt(mean_squared_error(y, y_pred))"
   ]
  },
  {
   "cell_type": "code",
   "execution_count": 40,
   "id": "7f8fb1cd",
   "metadata": {},
   "outputs": [
    {
     "data": {
      "text/plain": [
       "46077.76823909041"
      ]
     },
     "execution_count": 40,
     "metadata": {},
     "output_type": "execute_result"
    }
   ],
   "source": [
    "error"
   ]
  },
  {
   "cell_type": "code",
   "execution_count": 41,
   "id": "2a3daed4",
   "metadata": {},
   "outputs": [
    {
     "data": {
      "text/html": [
       "<style>#sk-container-id-2 {color: black;}#sk-container-id-2 pre{padding: 0;}#sk-container-id-2 div.sk-toggleable {background-color: white;}#sk-container-id-2 label.sk-toggleable__label {cursor: pointer;display: block;width: 100%;margin-bottom: 0;padding: 0.3em;box-sizing: border-box;text-align: center;}#sk-container-id-2 label.sk-toggleable__label-arrow:before {content: \"▸\";float: left;margin-right: 0.25em;color: #696969;}#sk-container-id-2 label.sk-toggleable__label-arrow:hover:before {color: black;}#sk-container-id-2 div.sk-estimator:hover label.sk-toggleable__label-arrow:before {color: black;}#sk-container-id-2 div.sk-toggleable__content {max-height: 0;max-width: 0;overflow: hidden;text-align: left;background-color: #f0f8ff;}#sk-container-id-2 div.sk-toggleable__content pre {margin: 0.2em;color: black;border-radius: 0.25em;background-color: #f0f8ff;}#sk-container-id-2 input.sk-toggleable__control:checked~div.sk-toggleable__content {max-height: 200px;max-width: 100%;overflow: auto;}#sk-container-id-2 input.sk-toggleable__control:checked~label.sk-toggleable__label-arrow:before {content: \"▾\";}#sk-container-id-2 div.sk-estimator input.sk-toggleable__control:checked~label.sk-toggleable__label {background-color: #d4ebff;}#sk-container-id-2 div.sk-label input.sk-toggleable__control:checked~label.sk-toggleable__label {background-color: #d4ebff;}#sk-container-id-2 input.sk-hidden--visually {border: 0;clip: rect(1px 1px 1px 1px);clip: rect(1px, 1px, 1px, 1px);height: 1px;margin: -1px;overflow: hidden;padding: 0;position: absolute;width: 1px;}#sk-container-id-2 div.sk-estimator {font-family: monospace;background-color: #f0f8ff;border: 1px dotted black;border-radius: 0.25em;box-sizing: border-box;margin-bottom: 0.5em;}#sk-container-id-2 div.sk-estimator:hover {background-color: #d4ebff;}#sk-container-id-2 div.sk-parallel-item::after {content: \"\";width: 100%;border-bottom: 1px solid gray;flex-grow: 1;}#sk-container-id-2 div.sk-label:hover label.sk-toggleable__label {background-color: #d4ebff;}#sk-container-id-2 div.sk-serial::before {content: \"\";position: absolute;border-left: 1px solid gray;box-sizing: border-box;top: 0;bottom: 0;left: 50%;z-index: 0;}#sk-container-id-2 div.sk-serial {display: flex;flex-direction: column;align-items: center;background-color: white;padding-right: 0.2em;padding-left: 0.2em;position: relative;}#sk-container-id-2 div.sk-item {position: relative;z-index: 1;}#sk-container-id-2 div.sk-parallel {display: flex;align-items: stretch;justify-content: center;background-color: white;position: relative;}#sk-container-id-2 div.sk-item::before, #sk-container-id-2 div.sk-parallel-item::before {content: \"\";position: absolute;border-left: 1px solid gray;box-sizing: border-box;top: 0;bottom: 0;left: 50%;z-index: -1;}#sk-container-id-2 div.sk-parallel-item {display: flex;flex-direction: column;z-index: 1;position: relative;background-color: white;}#sk-container-id-2 div.sk-parallel-item:first-child::after {align-self: flex-end;width: 50%;}#sk-container-id-2 div.sk-parallel-item:last-child::after {align-self: flex-start;width: 50%;}#sk-container-id-2 div.sk-parallel-item:only-child::after {width: 0;}#sk-container-id-2 div.sk-dashed-wrapped {border: 1px dashed gray;margin: 0 0.4em 0.5em 0.4em;box-sizing: border-box;padding-bottom: 0.4em;background-color: white;}#sk-container-id-2 div.sk-label label {font-family: monospace;font-weight: bold;display: inline-block;line-height: 1.2em;}#sk-container-id-2 div.sk-label-container {text-align: center;}#sk-container-id-2 div.sk-container {/* jupyter's `normalize.less` sets `[hidden] { display: none; }` but bootstrap.min.css set `[hidden] { display: none !important; }` so we also need the `!important` here to be able to override the default hidden behavior on the sphinx rendered scikit-learn.org. See: https://github.com/scikit-learn/scikit-learn/issues/21755 */display: inline-block !important;position: relative;}#sk-container-id-2 div.sk-text-repr-fallback {display: none;}</style><div id=\"sk-container-id-2\" class=\"sk-top-container\"><div class=\"sk-text-repr-fallback\"><pre>DecisionTreeRegressor(random_state=0)</pre><b>In a Jupyter environment, please rerun this cell to show the HTML representation or trust the notebook. <br />On GitHub, the HTML representation is unable to render, please try loading this page with nbviewer.org.</b></div><div class=\"sk-container\" hidden><div class=\"sk-item\"><div class=\"sk-estimator sk-toggleable\"><input class=\"sk-toggleable__control sk-hidden--visually\" id=\"sk-estimator-id-2\" type=\"checkbox\" checked><label for=\"sk-estimator-id-2\" class=\"sk-toggleable__label sk-toggleable__label-arrow\">DecisionTreeRegressor</label><div class=\"sk-toggleable__content\"><pre>DecisionTreeRegressor(random_state=0)</pre></div></div></div></div></div>"
      ],
      "text/plain": [
       "DecisionTreeRegressor(random_state=0)"
      ]
     },
     "execution_count": 41,
     "metadata": {},
     "output_type": "execute_result"
    }
   ],
   "source": [
    "from sklearn.tree import DecisionTreeRegressor\n",
    "\n",
    "tree_regressor = DecisionTreeRegressor(random_state=0)\n",
    "tree_regressor.fit(X, y)\n"
   ]
  },
  {
   "cell_type": "code",
   "execution_count": 42,
   "id": "f4418612",
   "metadata": {},
   "outputs": [],
   "source": [
    "y_pred = tree_regressor.predict(X)"
   ]
  },
  {
   "cell_type": "code",
   "execution_count": 43,
   "id": "35ce4014",
   "metadata": {},
   "outputs": [],
   "source": [
    "error = np.sqrt(mean_squared_error(y, y_pred))"
   ]
  },
  {
   "cell_type": "code",
   "execution_count": 44,
   "id": "6585a32f",
   "metadata": {},
   "outputs": [
    {
     "data": {
      "text/plain": [
       "32381.35273449446"
      ]
     },
     "execution_count": 44,
     "metadata": {},
     "output_type": "execute_result"
    }
   ],
   "source": [
    "error"
   ]
  },
  {
   "cell_type": "code",
   "execution_count": 45,
   "id": "59a825af",
   "metadata": {},
   "outputs": [
    {
     "data": {
      "text/html": [
       "<style>#sk-container-id-3 {color: black;}#sk-container-id-3 pre{padding: 0;}#sk-container-id-3 div.sk-toggleable {background-color: white;}#sk-container-id-3 label.sk-toggleable__label {cursor: pointer;display: block;width: 100%;margin-bottom: 0;padding: 0.3em;box-sizing: border-box;text-align: center;}#sk-container-id-3 label.sk-toggleable__label-arrow:before {content: \"▸\";float: left;margin-right: 0.25em;color: #696969;}#sk-container-id-3 label.sk-toggleable__label-arrow:hover:before {color: black;}#sk-container-id-3 div.sk-estimator:hover label.sk-toggleable__label-arrow:before {color: black;}#sk-container-id-3 div.sk-toggleable__content {max-height: 0;max-width: 0;overflow: hidden;text-align: left;background-color: #f0f8ff;}#sk-container-id-3 div.sk-toggleable__content pre {margin: 0.2em;color: black;border-radius: 0.25em;background-color: #f0f8ff;}#sk-container-id-3 input.sk-toggleable__control:checked~div.sk-toggleable__content {max-height: 200px;max-width: 100%;overflow: auto;}#sk-container-id-3 input.sk-toggleable__control:checked~label.sk-toggleable__label-arrow:before {content: \"▾\";}#sk-container-id-3 div.sk-estimator input.sk-toggleable__control:checked~label.sk-toggleable__label {background-color: #d4ebff;}#sk-container-id-3 div.sk-label input.sk-toggleable__control:checked~label.sk-toggleable__label {background-color: #d4ebff;}#sk-container-id-3 input.sk-hidden--visually {border: 0;clip: rect(1px 1px 1px 1px);clip: rect(1px, 1px, 1px, 1px);height: 1px;margin: -1px;overflow: hidden;padding: 0;position: absolute;width: 1px;}#sk-container-id-3 div.sk-estimator {font-family: monospace;background-color: #f0f8ff;border: 1px dotted black;border-radius: 0.25em;box-sizing: border-box;margin-bottom: 0.5em;}#sk-container-id-3 div.sk-estimator:hover {background-color: #d4ebff;}#sk-container-id-3 div.sk-parallel-item::after {content: \"\";width: 100%;border-bottom: 1px solid gray;flex-grow: 1;}#sk-container-id-3 div.sk-label:hover label.sk-toggleable__label {background-color: #d4ebff;}#sk-container-id-3 div.sk-serial::before {content: \"\";position: absolute;border-left: 1px solid gray;box-sizing: border-box;top: 0;bottom: 0;left: 50%;z-index: 0;}#sk-container-id-3 div.sk-serial {display: flex;flex-direction: column;align-items: center;background-color: white;padding-right: 0.2em;padding-left: 0.2em;position: relative;}#sk-container-id-3 div.sk-item {position: relative;z-index: 1;}#sk-container-id-3 div.sk-parallel {display: flex;align-items: stretch;justify-content: center;background-color: white;position: relative;}#sk-container-id-3 div.sk-item::before, #sk-container-id-3 div.sk-parallel-item::before {content: \"\";position: absolute;border-left: 1px solid gray;box-sizing: border-box;top: 0;bottom: 0;left: 50%;z-index: -1;}#sk-container-id-3 div.sk-parallel-item {display: flex;flex-direction: column;z-index: 1;position: relative;background-color: white;}#sk-container-id-3 div.sk-parallel-item:first-child::after {align-self: flex-end;width: 50%;}#sk-container-id-3 div.sk-parallel-item:last-child::after {align-self: flex-start;width: 50%;}#sk-container-id-3 div.sk-parallel-item:only-child::after {width: 0;}#sk-container-id-3 div.sk-dashed-wrapped {border: 1px dashed gray;margin: 0 0.4em 0.5em 0.4em;box-sizing: border-box;padding-bottom: 0.4em;background-color: white;}#sk-container-id-3 div.sk-label label {font-family: monospace;font-weight: bold;display: inline-block;line-height: 1.2em;}#sk-container-id-3 div.sk-label-container {text-align: center;}#sk-container-id-3 div.sk-container {/* jupyter's `normalize.less` sets `[hidden] { display: none; }` but bootstrap.min.css set `[hidden] { display: none !important; }` so we also need the `!important` here to be able to override the default hidden behavior on the sphinx rendered scikit-learn.org. See: https://github.com/scikit-learn/scikit-learn/issues/21755 */display: inline-block !important;position: relative;}#sk-container-id-3 div.sk-text-repr-fallback {display: none;}</style><div id=\"sk-container-id-3\" class=\"sk-top-container\"><div class=\"sk-text-repr-fallback\"><pre>RandomForestRegressor(random_state=0)</pre><b>In a Jupyter environment, please rerun this cell to show the HTML representation or trust the notebook. <br />On GitHub, the HTML representation is unable to render, please try loading this page with nbviewer.org.</b></div><div class=\"sk-container\" hidden><div class=\"sk-item\"><div class=\"sk-estimator sk-toggleable\"><input class=\"sk-toggleable__control sk-hidden--visually\" id=\"sk-estimator-id-3\" type=\"checkbox\" checked><label for=\"sk-estimator-id-3\" class=\"sk-toggleable__label sk-toggleable__label-arrow\">RandomForestRegressor</label><div class=\"sk-toggleable__content\"><pre>RandomForestRegressor(random_state=0)</pre></div></div></div></div></div>"
      ],
      "text/plain": [
       "RandomForestRegressor(random_state=0)"
      ]
     },
     "execution_count": 45,
     "metadata": {},
     "output_type": "execute_result"
    }
   ],
   "source": [
    "from sklearn.ensemble import RandomForestRegressor\n",
    "\n",
    "rf_regressor = RandomForestRegressor(random_state=0)\n",
    "rf_regressor.fit(X, y)"
   ]
  },
  {
   "cell_type": "code",
   "execution_count": 46,
   "id": "13fe56df",
   "metadata": {},
   "outputs": [],
   "source": [
    "y_pred = rf_regressor.predict(X)"
   ]
  },
  {
   "cell_type": "code",
   "execution_count": 47,
   "id": "c91c3f97",
   "metadata": {},
   "outputs": [],
   "source": [
    "error = np.sqrt(mean_squared_error(y, y_pred))"
   ]
  },
  {
   "cell_type": "code",
   "execution_count": 48,
   "id": "47e324f5",
   "metadata": {},
   "outputs": [
    {
     "data": {
      "text/plain": [
       "32566.75625812068"
      ]
     },
     "execution_count": 48,
     "metadata": {},
     "output_type": "execute_result"
    }
   ],
   "source": [
    "error"
   ]
  },
  {
   "cell_type": "code",
   "execution_count": 49,
   "id": "561a1806",
   "metadata": {},
   "outputs": [
    {
     "data": {
      "text/html": [
       "<style>#sk-container-id-4 {color: black;}#sk-container-id-4 pre{padding: 0;}#sk-container-id-4 div.sk-toggleable {background-color: white;}#sk-container-id-4 label.sk-toggleable__label {cursor: pointer;display: block;width: 100%;margin-bottom: 0;padding: 0.3em;box-sizing: border-box;text-align: center;}#sk-container-id-4 label.sk-toggleable__label-arrow:before {content: \"▸\";float: left;margin-right: 0.25em;color: #696969;}#sk-container-id-4 label.sk-toggleable__label-arrow:hover:before {color: black;}#sk-container-id-4 div.sk-estimator:hover label.sk-toggleable__label-arrow:before {color: black;}#sk-container-id-4 div.sk-toggleable__content {max-height: 0;max-width: 0;overflow: hidden;text-align: left;background-color: #f0f8ff;}#sk-container-id-4 div.sk-toggleable__content pre {margin: 0.2em;color: black;border-radius: 0.25em;background-color: #f0f8ff;}#sk-container-id-4 input.sk-toggleable__control:checked~div.sk-toggleable__content {max-height: 200px;max-width: 100%;overflow: auto;}#sk-container-id-4 input.sk-toggleable__control:checked~label.sk-toggleable__label-arrow:before {content: \"▾\";}#sk-container-id-4 div.sk-estimator input.sk-toggleable__control:checked~label.sk-toggleable__label {background-color: #d4ebff;}#sk-container-id-4 div.sk-label input.sk-toggleable__control:checked~label.sk-toggleable__label {background-color: #d4ebff;}#sk-container-id-4 input.sk-hidden--visually {border: 0;clip: rect(1px 1px 1px 1px);clip: rect(1px, 1px, 1px, 1px);height: 1px;margin: -1px;overflow: hidden;padding: 0;position: absolute;width: 1px;}#sk-container-id-4 div.sk-estimator {font-family: monospace;background-color: #f0f8ff;border: 1px dotted black;border-radius: 0.25em;box-sizing: border-box;margin-bottom: 0.5em;}#sk-container-id-4 div.sk-estimator:hover {background-color: #d4ebff;}#sk-container-id-4 div.sk-parallel-item::after {content: \"\";width: 100%;border-bottom: 1px solid gray;flex-grow: 1;}#sk-container-id-4 div.sk-label:hover label.sk-toggleable__label {background-color: #d4ebff;}#sk-container-id-4 div.sk-serial::before {content: \"\";position: absolute;border-left: 1px solid gray;box-sizing: border-box;top: 0;bottom: 0;left: 50%;z-index: 0;}#sk-container-id-4 div.sk-serial {display: flex;flex-direction: column;align-items: center;background-color: white;padding-right: 0.2em;padding-left: 0.2em;position: relative;}#sk-container-id-4 div.sk-item {position: relative;z-index: 1;}#sk-container-id-4 div.sk-parallel {display: flex;align-items: stretch;justify-content: center;background-color: white;position: relative;}#sk-container-id-4 div.sk-item::before, #sk-container-id-4 div.sk-parallel-item::before {content: \"\";position: absolute;border-left: 1px solid gray;box-sizing: border-box;top: 0;bottom: 0;left: 50%;z-index: -1;}#sk-container-id-4 div.sk-parallel-item {display: flex;flex-direction: column;z-index: 1;position: relative;background-color: white;}#sk-container-id-4 div.sk-parallel-item:first-child::after {align-self: flex-end;width: 50%;}#sk-container-id-4 div.sk-parallel-item:last-child::after {align-self: flex-start;width: 50%;}#sk-container-id-4 div.sk-parallel-item:only-child::after {width: 0;}#sk-container-id-4 div.sk-dashed-wrapped {border: 1px dashed gray;margin: 0 0.4em 0.5em 0.4em;box-sizing: border-box;padding-bottom: 0.4em;background-color: white;}#sk-container-id-4 div.sk-label label {font-family: monospace;font-weight: bold;display: inline-block;line-height: 1.2em;}#sk-container-id-4 div.sk-label-container {text-align: center;}#sk-container-id-4 div.sk-container {/* jupyter's `normalize.less` sets `[hidden] { display: none; }` but bootstrap.min.css set `[hidden] { display: none !important; }` so we also need the `!important` here to be able to override the default hidden behavior on the sphinx rendered scikit-learn.org. See: https://github.com/scikit-learn/scikit-learn/issues/21755 */display: inline-block !important;position: relative;}#sk-container-id-4 div.sk-text-repr-fallback {display: none;}</style><div id=\"sk-container-id-4\" class=\"sk-top-container\"><div class=\"sk-text-repr-fallback\"><pre>GridSearchCV(estimator=DecisionTreeRegressor(random_state=0),\n",
       "             param_grid={&#x27;max_depth&#x27;: [None, 2, 4, 6, 8, 10, 12]},\n",
       "             scoring=&#x27;neg_mean_squared_error&#x27;)</pre><b>In a Jupyter environment, please rerun this cell to show the HTML representation or trust the notebook. <br />On GitHub, the HTML representation is unable to render, please try loading this page with nbviewer.org.</b></div><div class=\"sk-container\" hidden><div class=\"sk-item sk-dashed-wrapped\"><div class=\"sk-label-container\"><div class=\"sk-label sk-toggleable\"><input class=\"sk-toggleable__control sk-hidden--visually\" id=\"sk-estimator-id-4\" type=\"checkbox\" ><label for=\"sk-estimator-id-4\" class=\"sk-toggleable__label sk-toggleable__label-arrow\">GridSearchCV</label><div class=\"sk-toggleable__content\"><pre>GridSearchCV(estimator=DecisionTreeRegressor(random_state=0),\n",
       "             param_grid={&#x27;max_depth&#x27;: [None, 2, 4, 6, 8, 10, 12]},\n",
       "             scoring=&#x27;neg_mean_squared_error&#x27;)</pre></div></div></div><div class=\"sk-parallel\"><div class=\"sk-parallel-item\"><div class=\"sk-item\"><div class=\"sk-label-container\"><div class=\"sk-label sk-toggleable\"><input class=\"sk-toggleable__control sk-hidden--visually\" id=\"sk-estimator-id-5\" type=\"checkbox\" ><label for=\"sk-estimator-id-5\" class=\"sk-toggleable__label sk-toggleable__label-arrow\">estimator: DecisionTreeRegressor</label><div class=\"sk-toggleable__content\"><pre>DecisionTreeRegressor(random_state=0)</pre></div></div></div><div class=\"sk-serial\"><div class=\"sk-item\"><div class=\"sk-estimator sk-toggleable\"><input class=\"sk-toggleable__control sk-hidden--visually\" id=\"sk-estimator-id-6\" type=\"checkbox\" ><label for=\"sk-estimator-id-6\" class=\"sk-toggleable__label sk-toggleable__label-arrow\">DecisionTreeRegressor</label><div class=\"sk-toggleable__content\"><pre>DecisionTreeRegressor(random_state=0)</pre></div></div></div></div></div></div></div></div></div></div>"
      ],
      "text/plain": [
       "GridSearchCV(estimator=DecisionTreeRegressor(random_state=0),\n",
       "             param_grid={'max_depth': [None, 2, 4, 6, 8, 10, 12]},\n",
       "             scoring='neg_mean_squared_error')"
      ]
     },
     "execution_count": 49,
     "metadata": {},
     "output_type": "execute_result"
    }
   ],
   "source": [
    "from sklearn.model_selection import GridSearchCV\n",
    "\n",
    "max_depth = [None, 2,4,6,8,10,12]\n",
    "parameters = {\"max_depth\": max_depth}\n",
    "\n",
    "dt_regressor = DecisionTreeRegressor(random_state=0)\n",
    "gs = GridSearchCV(dt_regressor, parameters, scoring = \"neg_mean_squared_error\")\n",
    "gs.fit(X,y)"
   ]
  },
  {
   "cell_type": "code",
   "execution_count": 50,
   "id": "817acda6",
   "metadata": {},
   "outputs": [
    {
     "name": "stdout",
     "output_type": "stream",
     "text": [
      "35013.18423100064\n"
     ]
    }
   ],
   "source": [
    "dt_regressor = gs.best_estimator_\n",
    "\n",
    "dt_regressor.fit(X,y)\n",
    "y_pred = dt_regressor.predict(X)\n",
    "error = np.sqrt(mean_squared_error(y, y_pred))\n",
    "print(error)"
   ]
  },
  {
   "cell_type": "code",
   "execution_count": 51,
   "id": "230f6ee6",
   "metadata": {},
   "outputs": [
    {
     "data": {
      "text/html": [
       "<div>\n",
       "<style scoped>\n",
       "    .dataframe tbody tr th:only-of-type {\n",
       "        vertical-align: middle;\n",
       "    }\n",
       "\n",
       "    .dataframe tbody tr th {\n",
       "        vertical-align: top;\n",
       "    }\n",
       "\n",
       "    .dataframe thead th {\n",
       "        text-align: right;\n",
       "    }\n",
       "</style>\n",
       "<table border=\"1\" class=\"dataframe\">\n",
       "  <thead>\n",
       "    <tr style=\"text-align: right;\">\n",
       "      <th></th>\n",
       "      <th>Country</th>\n",
       "      <th>Age</th>\n",
       "      <th>EdLevel</th>\n",
       "      <th>YearsCodePro</th>\n",
       "    </tr>\n",
       "  </thead>\n",
       "  <tbody>\n",
       "    <tr>\n",
       "      <th>2</th>\n",
       "      <td>16</td>\n",
       "      <td>3</td>\n",
       "      <td>0</td>\n",
       "      <td>23.0</td>\n",
       "    </tr>\n",
       "    <tr>\n",
       "      <th>3</th>\n",
       "      <td>16</td>\n",
       "      <td>1</td>\n",
       "      <td>0</td>\n",
       "      <td>7.0</td>\n",
       "    </tr>\n",
       "    <tr>\n",
       "      <th>5</th>\n",
       "      <td>15</td>\n",
       "      <td>2</td>\n",
       "      <td>1</td>\n",
       "      <td>21.0</td>\n",
       "    </tr>\n",
       "    <tr>\n",
       "      <th>6</th>\n",
       "      <td>16</td>\n",
       "      <td>2</td>\n",
       "      <td>1</td>\n",
       "      <td>3.0</td>\n",
       "    </tr>\n",
       "    <tr>\n",
       "      <th>7</th>\n",
       "      <td>16</td>\n",
       "      <td>1</td>\n",
       "      <td>0</td>\n",
       "      <td>3.0</td>\n",
       "    </tr>\n",
       "    <tr>\n",
       "      <th>...</th>\n",
       "      <td>...</td>\n",
       "      <td>...</td>\n",
       "      <td>...</td>\n",
       "      <td>...</td>\n",
       "    </tr>\n",
       "    <tr>\n",
       "      <th>89156</th>\n",
       "      <td>16</td>\n",
       "      <td>1</td>\n",
       "      <td>0</td>\n",
       "      <td>8.0</td>\n",
       "    </tr>\n",
       "    <tr>\n",
       "      <th>89158</th>\n",
       "      <td>13</td>\n",
       "      <td>1</td>\n",
       "      <td>0</td>\n",
       "      <td>8.0</td>\n",
       "    </tr>\n",
       "    <tr>\n",
       "      <th>89162</th>\n",
       "      <td>1</td>\n",
       "      <td>2</td>\n",
       "      <td>2</td>\n",
       "      <td>24.0</td>\n",
       "    </tr>\n",
       "    <tr>\n",
       "      <th>89167</th>\n",
       "      <td>6</td>\n",
       "      <td>0</td>\n",
       "      <td>0</td>\n",
       "      <td>2.0</td>\n",
       "    </tr>\n",
       "    <tr>\n",
       "      <th>89170</th>\n",
       "      <td>4</td>\n",
       "      <td>1</td>\n",
       "      <td>2</td>\n",
       "      <td>9.0</td>\n",
       "    </tr>\n",
       "  </tbody>\n",
       "</table>\n",
       "<p>27716 rows × 4 columns</p>\n",
       "</div>"
      ],
      "text/plain": [
       "       Country  Age  EdLevel  YearsCodePro\n",
       "2           16    3        0          23.0\n",
       "3           16    1        0           7.0\n",
       "5           15    2        1          21.0\n",
       "6           16    2        1           3.0\n",
       "7           16    1        0           3.0\n",
       "...        ...  ...      ...           ...\n",
       "89156       16    1        0           8.0\n",
       "89158       13    1        0           8.0\n",
       "89162        1    2        2          24.0\n",
       "89167        6    0        0           2.0\n",
       "89170        4    1        2           9.0\n",
       "\n",
       "[27716 rows x 4 columns]"
      ]
     },
     "execution_count": 51,
     "metadata": {},
     "output_type": "execute_result"
    }
   ],
   "source": [
    "X"
   ]
  },
  {
   "cell_type": "code",
   "execution_count": 52,
   "id": "b5df8182",
   "metadata": {},
   "outputs": [
    {
     "data": {
      "text/plain": [
       "array([['India', '25-34 years old', \"Master's degree\", '15']],\n",
       "      dtype='<U15')"
      ]
     },
     "execution_count": 52,
     "metadata": {},
     "output_type": "execute_result"
    }
   ],
   "source": [
    "X = np.array([[\"India\", \"25-34 years old\", \"Master's degree\", 15]])\n",
    "X"
   ]
  },
  {
   "cell_type": "code",
   "execution_count": 53,
   "id": "de100fce",
   "metadata": {},
   "outputs": [
    {
     "data": {
      "text/plain": [
       "array([[ 6.,  1.,  2., 15.]])"
      ]
     },
     "execution_count": 53,
     "metadata": {},
     "output_type": "execute_result"
    }
   ],
   "source": [
    "X[:, 0] = le_country.transform(X[:, 0])\n",
    "X[:, 1] = le_age.transform(X[:, 1])\n",
    "X[:, 2] = le_education.transform(X[:, 2])\n",
    "X = X.astype(float)\n",
    "X"
   ]
  },
  {
   "cell_type": "code",
   "execution_count": 54,
   "id": "12ee6a18",
   "metadata": {},
   "outputs": [
    {
     "name": "stderr",
     "output_type": "stream",
     "text": [
      "C:\\Users\\DELL\\anaconda3\\lib\\site-packages\\sklearn\\base.py:465: UserWarning: X does not have valid feature names, but DecisionTreeRegressor was fitted with feature names\n",
      "  warnings.warn(\n"
     ]
    }
   ],
   "source": [
    "y_pred = dt_regressor.predict(X)"
   ]
  },
  {
   "cell_type": "code",
   "execution_count": 55,
   "id": "388248da",
   "metadata": {},
   "outputs": [
    {
     "data": {
      "text/plain": [
       "array([55133.31210191])"
      ]
     },
     "execution_count": 55,
     "metadata": {},
     "output_type": "execute_result"
    }
   ],
   "source": [
    "y_pred"
   ]
  },
  {
   "cell_type": "code",
   "execution_count": 56,
   "id": "8cbe709c",
   "metadata": {},
   "outputs": [],
   "source": [
    "import pickle"
   ]
  },
  {
   "cell_type": "code",
   "execution_count": 57,
   "id": "9d48ca48",
   "metadata": {},
   "outputs": [],
   "source": [
    "data = {\"model\": dt_regressor, \"le_country\": le_country, \"le_age\": le_age, \"le_education\": le_education}\n",
    "\n",
    "with open(\"saved_steps.pk1\", \"wb\") as file:\n",
    "    pickle.dump(data, file, protocol=pickle.HIGHEST_PROTOCOL)"
   ]
  },
  {
   "cell_type": "code",
   "execution_count": 58,
   "id": "c8d04e8c",
   "metadata": {},
   "outputs": [],
   "source": [
    "with open(\"saved_steps.pk1\", \"rb\") as file:\n",
    "    data = pickle.load(file)\n",
    "    \n",
    "regressor_model = data[\"model\"]\n",
    "le_country = data['le_country']\n",
    "le_age = data['le_age']\n",
    "le_education = data['le_education']"
   ]
  },
  {
   "cell_type": "code",
   "execution_count": 59,
   "id": "28d7d28e",
   "metadata": {},
   "outputs": [
    {
     "name": "stderr",
     "output_type": "stream",
     "text": [
      "C:\\Users\\DELL\\anaconda3\\lib\\site-packages\\sklearn\\base.py:465: UserWarning: X does not have valid feature names, but DecisionTreeRegressor was fitted with feature names\n",
      "  warnings.warn(\n"
     ]
    },
    {
     "data": {
      "text/plain": [
       "array([55133.31210191])"
      ]
     },
     "execution_count": 59,
     "metadata": {},
     "output_type": "execute_result"
    }
   ],
   "source": [
    "y_pred = regressor_model.predict(X)\n",
    "y_pred"
   ]
  },
  {
   "cell_type": "code",
   "execution_count": 60,
   "id": "f62fe8c3",
   "metadata": {},
   "outputs": [
    {
     "name": "stdout",
     "output_type": "stream",
     "text": [
      "Name: scikit-learn\n",
      "Version: 1.3.2\n",
      "Summary: A set of python modules for machine learning and data mining\n",
      "Home-page: http://scikit-learn.org\n",
      "Author: \n",
      "Author-email: \n",
      "License: new BSD\n",
      "Location: c:\\users\\dell\\anaconda3\\lib\\site-packages\n",
      "Requires: joblib, numpy, scipy, threadpoolctl\n",
      "Required-by: daal4py, imbalanced-learn, scikit-learn-intelex\n",
      "Note: you may need to restart the kernel to use updated packages.\n"
     ]
    }
   ],
   "source": [
    "pip show scikit-learn"
   ]
  },
  {
   "cell_type": "code",
   "execution_count": 64,
   "id": "916e73c4",
   "metadata": {},
   "outputs": [
    {
     "name": "stdout",
     "output_type": "stream",
     "text": [
      "Requirement already satisfied: scikit-learn==1.3.2 in c:\\users\\dell\\anaconda3\\lib\\site-packages (1.3.2)\n",
      "Requirement already satisfied: numpy<2.0,>=1.17.3 in c:\\users\\dell\\anaconda3\\lib\\site-packages (from scikit-learn==1.3.2) (1.23.5)\n",
      "Requirement already satisfied: joblib>=1.1.1 in c:\\users\\dell\\anaconda3\\lib\\site-packages (from scikit-learn==1.3.2) (1.1.1)\n",
      "Requirement already satisfied: scipy>=1.5.0 in c:\\users\\dell\\anaconda3\\lib\\site-packages (from scikit-learn==1.3.2) (1.10.0)\n",
      "Requirement already satisfied: threadpoolctl>=2.0.0 in c:\\users\\dell\\anaconda3\\lib\\site-packages (from scikit-learn==1.3.2) (2.2.0)\n",
      "Note: you may need to restart the kernel to use updated packages.\n"
     ]
    }
   ],
   "source": [
    "pip install scikit-learn==1.3.2"
   ]
  },
  {
   "cell_type": "code",
   "execution_count": null,
   "id": "e0df869e",
   "metadata": {},
   "outputs": [],
   "source": []
  },
  {
   "cell_type": "code",
   "execution_count": null,
   "id": "9ac0325f",
   "metadata": {},
   "outputs": [],
   "source": []
  }
 ],
 "metadata": {
  "kernelspec": {
   "display_name": "Python 3 (ipykernel)",
   "language": "python",
   "name": "python3"
  },
  "language_info": {
   "codemirror_mode": {
    "name": "ipython",
    "version": 3
   },
   "file_extension": ".py",
   "mimetype": "text/x-python",
   "name": "python",
   "nbconvert_exporter": "python",
   "pygments_lexer": "ipython3",
   "version": "3.10.9"
  }
 },
 "nbformat": 4,
 "nbformat_minor": 5
}
